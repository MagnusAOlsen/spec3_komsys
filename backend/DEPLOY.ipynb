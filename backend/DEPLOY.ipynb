{
 "cells": [
  {
   "cell_type": "markdown",
   "metadata": {},
   "source": [
    "# How to deploy to Docker\n",
    "---"
   ]
  },
  {
   "cell_type": "markdown",
   "metadata": {},
   "source": [
    "## 0. Download Docker Desktop and Docker Compose\n",
    "\n",
    "* Docker Desktop: <a href=\"https://www.docker.com/products/docker-desktop/\">download</a>"
   ]
  },
  {
   "cell_type": "code",
   "execution_count": null,
   "metadata": {
    "vscode": {
     "languageId": "shellscript"
    }
   },
   "outputs": [],
   "source": [
    "## Docker Compose: Linux or Windows\n",
    "sudo curl -L \"https://github.com/docker/compose/releases/latest/download/docker-compose-$(uname -s)-$(uname -m)\" -o /usr/local/bin/docker-compose\n",
    "sudo chmod +x /usr/local/bin/docker-compose\n",
    "docker-compose --version"
   ]
  },
  {
   "cell_type": "code",
   "execution_count": null,
   "metadata": {
    "vscode": {
     "languageId": "shellscript"
    }
   },
   "outputs": [],
   "source": [
    "# Docker Compose: MacOS\n",
    "brew install docker-compose\n",
    "docker-compose --version"
   ]
  },
  {
   "cell_type": "markdown",
   "metadata": {},
   "source": [
    "## 1. Mount and build Docker image"
   ]
  },
  {
   "cell_type": "code",
   "execution_count": null,
   "metadata": {
    "vscode": {
     "languageId": "shellscript"
    }
   },
   "outputs": [],
   "source": [
    "docker build -t e-scooter-backend ."
   ]
  },
  {
   "cell_type": "markdown",
   "metadata": {},
   "source": [
    "## 2. Deploy Docker container "
   ]
  },
  {
   "cell_type": "markdown",
   "metadata": {},
   "source": [
    "### Deploy: Test"
   ]
  },
  {
   "cell_type": "code",
   "execution_count": null,
   "metadata": {
    "vscode": {
     "languageId": "shellscript"
    }
   },
   "outputs": [],
   "source": [
    "docker run --rm \\                                                   \n",
    "  -v \"$(pwd)/app:/app/app\" \\\n",
    "  -p 8080:8080 \\\n",
    "  -p 1883:1883 \\\n",
    "  -e DEPLOYMENT_MODE=TEST \\\n",
    "  -e DISABLE_MQTT=True \\\n",
    "  -e DISABLE_WEATHER=False \\\n",
    "  -e DISABLE_TRANSACTIONS=True \\\n",
    "  e-scooter-backend"
   ]
  },
  {
   "cell_type": "markdown",
   "metadata": {},
   "source": [
    "### Deploy: Prod"
   ]
  },
  {
   "cell_type": "code",
   "execution_count": null,
   "metadata": {
    "vscode": {
     "languageId": "shellscript"
    }
   },
   "outputs": [],
   "source": [
    "docker run --rm \\                                                   \n",
    "  -v \"$(pwd)/app:/app/app\" \\\n",
    "  -p 8080:8080 \\\n",
    "  -p 1883:1883 \\\n",
    "  -e DEPLOYMENT_MODE=PROD \\\n",
    "  -e DISABLE_MQTT=False \\\n",
    "  -e DISABLE_WEATHER=False \\\n",
    "  -e DISABLE_TRANSACTIONS=False \\\n",
    "  e-scooter-backend"
   ]
  }
 ],
 "metadata": {
  "language_info": {
   "name": "python"
  }
 },
 "nbformat": 4,
 "nbformat_minor": 2
}
