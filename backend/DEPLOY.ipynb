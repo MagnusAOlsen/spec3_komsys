{
 "cells": [
  {
   "cell_type": "markdown",
   "metadata": {},
   "source": [
    "# How to deploy\n",
    "---"
   ]
  },
  {
   "cell_type": "markdown",
   "metadata": {},
   "source": [
    "## 0. Download Docker Desktop and Docker Compose\n",
    "\n",
    "* Docker Desktop: <a href=\"https://www.docker.com/products/docker-desktop/\">download</a>"
   ]
  },
  {
   "cell_type": "code",
   "execution_count": null,
   "metadata": {},
   "outputs": [],
   "source": [
    "## Docker Compose: Linux or Windows\n",
    "!sudo curl -L \"https://github.com/docker/compose/releases/latest/download/docker-compose-$(uname -s)-$(uname -m)\" -o /usr/local/bin/docker-compose\n",
    "!sudo chmod +x /usr/local/bin/docker-compose\n",
    "!docker-compose --version"
   ]
  },
  {
   "cell_type": "code",
   "execution_count": null,
   "metadata": {},
   "outputs": [],
   "source": [
    "# Docker Compose: MacOS\n",
    "!brew install docker-compose\n",
    "!docker-compose --version"
   ]
  },
  {
   "cell_type": "markdown",
   "metadata": {},
   "source": [
    "## 1. Mount and build Docker image"
   ]
  },
  {
   "cell_type": "code",
   "execution_count": null,
   "metadata": {},
   "outputs": [],
   "source": [
    "!docker build -t e-scooter-backend ."
   ]
  },
  {
   "cell_type": "markdown",
   "metadata": {},
   "source": [
    "## 2. Deploy Docker container "
   ]
  },
  {
   "cell_type": "markdown",
   "metadata": {},
   "source": [
    "### Deploy: Test"
   ]
  },
  {
   "cell_type": "code",
   "execution_count": null,
   "metadata": {},
   "outputs": [],
   "source": [
    "!docker run --rm --mount type=bind,src=\"$(pwd)/app\",dst=/app/app -p 8080:8080 -p 1883:1883 -e DEPLOYMENT_MODE=TEST -e DISABLE_MQTT=True -e DISABLE_WEATHER=False -e DISABLE_TRANSACTIONS=True e-scooter-backend"
   ]
  },
  {
   "cell_type": "markdown",
   "metadata": {},
   "source": [
    "### Deploy: Prod"
   ]
  },
  {
   "cell_type": "code",
   "execution_count": null,
   "metadata": {},
   "outputs": [],
   "source": [
    "!docker run --rm --mount type=bind,src=\"$(pwd)/app\",dst=/app/app -p 8080:8080 -p 1883:1883 -e MQTT_HOST_PROD=\"$(ipconfig getifaddr en0)\" -e DEPLOYMENT_MODE=PROD -e DISABLE_MQTT=False -e DISABLE_WEATHER=False -e DISABLE_TRANSACTIONS=False e-scooter-backend"
   ]
  }
 ],
 "metadata": {
  "kernelspec": {
   "display_name": "Python 3",
   "language": "python",
   "name": "python3"
  },
  "language_info": {
   "codemirror_mode": {
    "name": "ipython",
    "version": 3
   },
   "file_extension": ".py",
   "mimetype": "text/x-python",
   "name": "python",
   "nbconvert_exporter": "python",
   "pygments_lexer": "ipython3",
   "version": "3.11.5"
  }
 },
 "nbformat": 4,
 "nbformat_minor": 2
}
